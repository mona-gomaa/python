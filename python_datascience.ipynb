{
  "nbformat": 4,
  "nbformat_minor": 0,
  "metadata": {
    "colab": {
      "provenance": [],
      "toc_visible": true,
      "authorship_tag": "ABX9TyMRTiH2/Zci+cq0145qvNgI",
      "include_colab_link": true
    },
    "kernelspec": {
      "name": "python3",
      "display_name": "Python 3"
    },
    "language_info": {
      "name": "python"
    }
  },
  "cells": [
    {
      "cell_type": "markdown",
      "metadata": {
        "id": "view-in-github",
        "colab_type": "text"
      },
      "source": [
        "<a href=\"https://colab.research.google.com/github/mona-gomaa/python/blob/python_mini_projects_DS/python_datascience.ipynb\" target=\"_parent\"><img src=\"https://colab.research.google.com/assets/colab-badge.svg\" alt=\"Open In Colab\"/></a>"
      ]
    },
    {
      "cell_type": "code",
      "execution_count": null,
      "metadata": {
        "colab": {
          "base_uri": "https://localhost:8080/"
        },
        "id": "zs4TJqPk4ej5",
        "outputId": "dacdd923-203e-4fe3-9005-762f311b4a8a"
      },
      "outputs": [
        {
          "output_type": "stream",
          "name": "stdout",
          "text": [
            "[2, 4, 8]\n"
          ]
        }
      ],
      "source": [
        "# sum two vactors \n",
        "\n",
        "def  sum_vectors (v1,v2):\n",
        "    new_v=[]\n",
        "    for i in range(len(v1)):\n",
        "            new_v.append((v1[i] + v2[i] ))    \n",
        "    return new_v \n",
        "result=sum_vectors([1,2,3] , [1,2,5])\n",
        "print(result)"
      ]
    },
    {
      "cell_type": "code",
      "source": [
        "# mul selector and factors \n",
        "\n",
        "def  s_vector (s,v):\n",
        "    new_v=[]\n",
        "    for i in range(len(v)):\n",
        "            new_v.append(( s * v[i] ))    \n",
        "    return new_v \n",
        "result=s_vector(3 , [1,2,3])\n",
        "print(result)"
      ],
      "metadata": {
        "id": "SDATzOxN4k6O"
      },
      "execution_count": null,
      "outputs": []
    },
    {
      "cell_type": "code",
      "source": [
        "# mul two vacters\n",
        "def  mul_vectors (v1,v2):\n",
        "    new_v=[]\n",
        "    for i in range(len(v1)):\n",
        "            new_v.append(( v1[i] * v2[i] ))    \n",
        "    return new_v \n",
        "result=mul_vectors([1,2,3] , [1,2,3])\n",
        "sum_mul= result[0]+result[1]+result[2]\n",
        "print(sum_mul)"
      ],
      "metadata": {
        "id": "ChkvIoOh4lFZ"
      },
      "execution_count": null,
      "outputs": []
    },
    {
      "cell_type": "code",
      "source": [
        "def  mul_vectors (v1,v2):\n",
        "    s=0\n",
        "    new_v=[]\n",
        "    for i in range(len(v1)):\n",
        "            s+=( v1[i] * v2[i] ) \n",
        "         \n",
        "    return s \n",
        "result=mul_vectors([1,2,3] , [1,2,3])\n",
        "\n",
        "print(result)"
      ],
      "metadata": {
        "id": "UrlkEaPA4lLG"
      },
      "execution_count": null,
      "outputs": []
    },
    {
      "cell_type": "code",
      "source": [
        "# zip--> to use two vectors in the same time = range(len(..))\n",
        "def mul_zip (v1,v2):\n",
        "    mul=0\n",
        "    for i,m in zip(v1,v2):\n",
        "         mul+=(i*m)\n",
        "    return mul       \n",
        "result=mul_zip([1,2,3] , [1,2,3])\n",
        "print(result)"
      ],
      "metadata": {
        "id": "FKEEreaZ4lRU"
      },
      "execution_count": null,
      "outputs": []
    },
    {
      "cell_type": "code",
      "source": [
        "#matrix\n",
        "def shap (m):\n",
        "    r=len(m)\n",
        "    c=len(m[0])\n",
        "    return r,c\n",
        "rel=shap([[1,2,3] ,[1,2,3]])\n",
        "print(rel)"
      ],
      "metadata": {
        "id": "jY-h2O544lST"
      },
      "execution_count": null,
      "outputs": []
    },
    {
      "cell_type": "code",
      "source": [
        "# sum two matrix \n",
        "a=[[1,2,3],\n",
        "   [1,2,5],\n",
        "   [1,2,3]\n",
        "  ]\n",
        "b=[[1,2,3],\n",
        "   [1,1,1],\n",
        "   [1,1,1]\n",
        "  ]\n",
        "def  sum_m (m1,m2):\n",
        "    col=[]\n",
        "    for i in range(len(m1)):\n",
        "        row=[]\n",
        "        for n in range(len(m1[0])):\n",
        "            row.append(( m1[i][n]+ m2[i][n]))  \n",
        "        col.append(row)\n",
        "    return col\n",
        "result=sum_m(a,b)\n",
        "print(result)"
      ],
      "metadata": {
        "id": "Or5BiaQ74lYP"
      },
      "execution_count": null,
      "outputs": []
    },
    {
      "cell_type": "code",
      "source": [
        "#mul two matrix\n",
        "a=[[1,2,3],\n",
        "   [1,2,5],\n",
        "   [1,2,3]\n",
        "  ]\n",
        "b=[[1,2,3],\n",
        "   [1,1,1],\n",
        "   [1,1,1]\n",
        "  ]\n",
        "def  mul_m (m1,m2):\n",
        "    col=[]\n",
        "    for i in range(len(m1)):\n",
        "        row=[]\n",
        "        for n in range(len(m1[0])):\n",
        "            row.append(( m1[i][n]* m2[i][n]))  \n",
        "        col.append(row)\n",
        "    return col\n",
        "result=sum_m(a,b)\n",
        "print(result)"
      ],
      "metadata": {
        "id": "f24_ISKV4ldA"
      },
      "execution_count": null,
      "outputs": []
    },
    {
      "cell_type": "code",
      "source": [
        "# scelar mul matrix\n",
        "a=1\n",
        "b=[[1,2,3],\n",
        "   [1,1,1],\n",
        "   [1,1,1]\n",
        "  ]\n",
        "def  s_matrix (scel,matr):\n",
        "    list_1=[]\n",
        "    for i in range(len(matr)):\n",
        "        list_2=[]\n",
        "        for n in range(len(matr[i])):\n",
        "            list_2.append((scel*matr[i][n]))\n",
        "        list_1.append(list_2)\n",
        "    return list_1 \n",
        "                         \n",
        "result=s_matrix(a,b)\n",
        "print(result)"
      ],
      "metadata": {
        "id": "Mzo9dZlq5Az0"
      },
      "execution_count": null,
      "outputs": []
    },
    {
      "cell_type": "code",
      "source": [
        "# mul two  vectors\n",
        "def test (m1,m2):\n",
        "    list_1=[]\n",
        "    for i in range(len(m1)):\n",
        "        list_1.append((m1[i] * m2[i]))\n",
        "    return list_1\n",
        "rel = test([1,2],[2,2])\n",
        "print(rel)"
      ],
      "metadata": {
        "id": "WhmQrYvA5BCA"
      },
      "execution_count": null,
      "outputs": []
    },
    {
      "cell_type": "code",
      "source": [
        "#dot product\n",
        "a=[[1,2],\n",
        "   [1,2]\n",
        "\n",
        "  ]\n",
        "b=[[1,2],\n",
        "   [1,1]\n",
        "  ]\n",
        "def test (m1,m2):\n",
        "    list_1=[]\n",
        "    for i in range(len(m1)):\n",
        "        row = []\n",
        "        for j in range(len(m2[0])):\n",
        "            row.append(0)\n",
        "        list_1.append(row)   \n",
        "    for i in range(len(m1)):\n",
        "        for n in range(len(m1[0])): \n",
        "            for d in range(len(m2[i])):\n",
        "                list_1[i][n] += m1[i][d] * m2[d][n]\n",
        "    return list_1\n",
        "rel = test(a,b)\n",
        "print(rel)"
      ],
      "metadata": {
        "id": "2wlE_DrW5MNC"
      },
      "execution_count": null,
      "outputs": []
    }
  ]
}